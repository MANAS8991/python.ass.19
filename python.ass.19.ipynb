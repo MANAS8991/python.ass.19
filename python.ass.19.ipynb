{
 "cells": [
  {
   "cell_type": "markdown",
   "id": "8a0fb81d",
   "metadata": {},
   "source": [
    "# 1. Make a class called Thing with no contents and print it. Then, create an object called example from this class and also print it. Are the printed values the same or different?"
   ]
  },
  {
   "cell_type": "code",
   "execution_count": null,
   "id": "6ab0caaa",
   "metadata": {},
   "outputs": [],
   "source": [
    "class Thing:\n",
    "    pass\n",
    "\n",
    "print(Thing)\n",
    "\n",
    "When you run this code, the output will be something like:\n",
    "<class '__main__.Thing'>\n",
    "\n",
    "This output shows the type and name of the class Thing. It indicates that Thing is a class defined in the __main__ module.\n",
    "\n",
    "Now, let's create an object called example from the Thing class and print it:\n",
    "example = Thing()\n",
    "print(example)\n",
    "\n",
    "The output will be something like:\n",
    "<__main__.Thing object at 0xXXXXXXXX>\n",
    "\n",
    "The printed value for the example object shows its type (__main__.Thing) and the memory address where it is stored (0xXXXXXXXX).\n",
    "\n",
    "So, the printed values for the class Thing and the object example are different. The class Thing represents the blueprint or definition of the object, while the object example is an instance of that class."
   ]
  },
  {
   "cell_type": "markdown",
   "id": "bdacbbd0",
   "metadata": {},
   "source": [
    "# 2. Create a new class called Thing2 and add the value 'abc' to the letters class attribute. Letters should be printed."
   ]
  },
  {
   "cell_type": "code",
   "execution_count": null,
   "id": "155057ff",
   "metadata": {},
   "outputs": [],
   "source": [
    "Certainly! Here's an example of creating a class called Thing2 and adding the value 'abc' to its letters class attribute, and then printing the value:\n",
    "class Thing2:\n",
    "    letters = 'abc'\n",
    "\n",
    "print(Thing2.letters)\n",
    "\n",
    "When you run this code, the output will be:  abc\n",
    "    \n",
    "In this code, the class Thing2 has a class attribute called letters with the value 'abc'. By accessing Thing2.letters, you can access the value of the class attribute and print it.\n",
    "\n",
    "Note that the class attribute letters is shared by all instances of the class. If you create multiple objects from the Thing2 class, they will all have the same value for the letters attribute."
   ]
  },
  {
   "cell_type": "markdown",
   "id": "b97f4bc3",
   "metadata": {},
   "source": [
    "# 3. Make yet another class called, of course, Thing3. This time, assign the value 'xyz' to an instance (object) attribute called letters. Print letters. Do you need to make an object from the class to do this?"
   ]
  },
  {
   "cell_type": "code",
   "execution_count": null,
   "id": "41c70966",
   "metadata": {},
   "outputs": [],
   "source": [
    "Yes, in order to access and print an instance attribute, you need to create an object (instance) of the class. Here's an example of creating a class called Thing3 and assigning the value 'xyz' to an instance attribute called letters, and then printing the value:\n",
    "class Thing3:\n",
    "    def __init__(self):\n",
    "        self.letters = 'xyz'\n",
    "\n",
    "example = Thing3()\n",
    "print(example.letters)\n",
    "\n",
    "Output:  xyz\n",
    "\n",
    "In this code, the class Thing3 has an instance attribute letters that is assigned the value 'xyz' in the __init__ method. By creating an object example from the Thing3 class and accessing example.letters, you can access the value of the instance attribute and print it.\n",
    "\n",
    "Each instance of the class can have its own value for the letters attribute. If you create multiple objects from the Thing3 class, each object can have a different value for the letters attribute.    "
   ]
  },
  {
   "cell_type": "markdown",
   "id": "c32928cd",
   "metadata": {},
   "source": [
    "# 4. Create an Element class with the instance attributes name, symbol, and number. Create a class object with the values 'Hydrogen', 'H' and 1."
   ]
  },
  {
   "cell_type": "code",
   "execution_count": null,
   "id": "31e1305f",
   "metadata": {},
   "outputs": [],
   "source": [
    "Certainly! Here's an example of creating an Element class with the instance attributes name, symbol, and number, and then creating a class object with the values 'Hydrogen', 'H', and 1:\n",
    "class Element:\n",
    "    def __init__(self, name, symbol, number):\n",
    "        self.name = name\n",
    "        self.symbol = symbol\n",
    "        self.number = number\n",
    "\n",
    "element = Element('Hydrogen', 'H', 1)\n",
    "\n",
    "In this code, the Element class has an __init__ method that initializes the instance attributes name, symbol, and number with the values passed as arguments. By creating an object element from the Element class and providing the values 'Hydrogen', 'H', and 1, we can assign those values to the corresponding instance attributes.\n",
    "\n",
    "Now, you can access the attribute values of the element object like this:\n",
    "print(element.name)   # Output: Hydrogen\n",
    "print(element.symbol) # Output: H\n",
    "print(element.number) # Output: 1\n"
   ]
  },
  {
   "cell_type": "markdown",
   "id": "ba3c6628",
   "metadata": {},
   "source": [
    "# 5. Make a dictionary with these keys and values: 'name': 'Hydrogen', 'symbol': 'H', 'number': 1. Then, create an object called hydrogen from class Element using this dictionary."
   ]
  },
  {
   "cell_type": "code",
   "execution_count": null,
   "id": "69590c2a",
   "metadata": {},
   "outputs": [],
   "source": [
    "To create an object called hydrogen from the Element class using a dictionary with the keys and values provided, you can use dictionary unpacking. Here's an example:\n",
    "class Element:\n",
    "    def __init__(self, name, symbol, number):\n",
    "        self.name = name\n",
    "        self.symbol = symbol\n",
    "        self.number = number\n",
    "\n",
    "element_dict = {'name': 'Hydrogen', 'symbol': 'H', 'number': 1}\n",
    "hydrogen = Element(**element_dict)\n",
    "\n",
    "In this code, the element_dict dictionary contains the keys and values corresponding to the name, symbol, and number instance attributes of the Element class. By using the double asterisks (**) before element_dict during object creation, we unpack the dictionary and pass its key-value pairs as arguments to the Element class constructor.\n",
    "\n",
    "Now, the hydrogen object will have the attribute values assigned from the dictionary. You can access them as before:\n",
    "print(hydrogen.name)   # Output: Hydrogen\n",
    "print(hydrogen.symbol) # Output: H\n",
    "print(hydrogen.number) # Output: 1\n",
    "The hydrogen object will have the same attribute values as the element_dict dictionary."
   ]
  },
  {
   "cell_type": "markdown",
   "id": "2deb7382",
   "metadata": {},
   "source": [
    "# 6. For the Element class, define a method called dump() that prints the values of the object’s attributes (name, symbol, and number). Create the hydrogen object from this new definition and use dump() to print its attributes."
   ]
  },
  {
   "cell_type": "code",
   "execution_count": null,
   "id": "5121285d",
   "metadata": {},
   "outputs": [],
   "source": [
    "To define a method called dump() in the Element class that prints the values of the object's attributes (name, symbol, and number), you can add the following method definition inside the class:\n",
    "class Element:\n",
    "    def __init__(self, name, symbol, number):\n",
    "        self.name = name\n",
    "        self.symbol = symbol\n",
    "        self.number = number\n",
    "    \n",
    "    def dump(self):\n",
    "        print(f\"Name: {self.name}\")\n",
    "        print(f\"Symbol: {self.symbol}\")\n",
    "        print(f\"Number: {self.number}\")\n",
    "\n",
    "The dump() method takes the self parameter, which refers to the instance object itself, and uses it to access the attribute values of the object using dot notation (self.attribute).\n",
    "\n",
    "Now, you can create the hydrogen object using the updated Element class definition and use the dump() method to print its attributes:\n",
    "hydrogen = Element('Hydrogen', 'H', 1)\n",
    "hydrogen.dump()\n",
    "\n",
    "output:\n",
    "Name: Hydrogen\n",
    "Symbol: H\n",
    "Number: 1\n",
    "The dump() method provides a convenient way to display the attribute values of the hydrogen object."
   ]
  },
  {
   "cell_type": "markdown",
   "id": "87923f94",
   "metadata": {},
   "source": [
    "# 7. Call print(hydrogen). In the definition of Element, change the name of method dump to __str__, create a new hydrogen object, and call print(hydrogen) again."
   ]
  },
  {
   "cell_type": "code",
   "execution_count": null,
   "id": "929b5a00",
   "metadata": {},
   "outputs": [],
   "source": [
    "When you call print(hydrogen) on an object, it will use the object's __str__() method to determine the string representation of the object. By default, the __str__() method returns a string that includes the class name and the memory address of the object.\n",
    "\n",
    "To change the dump() method to __str__() in the Element class, you can modify the method definition as follows:\n",
    "class Element:\n",
    "    def __init__(self, name, symbol, number):\n",
    "        self.name = name\n",
    "        self.symbol = symbol\n",
    "        self.number = number\n",
    "    \n",
    "    def __str__(self):\n",
    "        return f\"Name: {self.name}, Symbol: {self.symbol}, Number: {self.number}\"\n",
    "\n",
    "Now, when you create a new hydrogen object and call print(hydrogen), it will use the __str__() method to get the string representation of the object:\n",
    "hydrogen = Element('Hydrogen', 'H', 1)\n",
    "print(hydrogen)\n",
    "Output:\n",
    "    Name: Hydrogen, Symbol: H, Number: 1\n",
    "\n",
    " The __str__() method allows you to define a custom string representation for your objects, making it more readable and informative when printed.               "
   ]
  },
  {
   "cell_type": "markdown",
   "id": "fbc0438b",
   "metadata": {},
   "source": [
    "# 8. Modify Element to make the attributes name, symbol, and number private. Define a getter property for each to return its value."
   ]
  },
  {
   "cell_type": "code",
   "execution_count": null,
   "id": "c403d650",
   "metadata": {},
   "outputs": [],
   "source": [
    "To make the attributes name, symbol, and number private in the Element class, you can prefix them with double underscores (__). This will enforce name mangling, making the attributes effectively private. Then, you can define getter properties for each attribute using the @property decorator. Here's an example:\n",
    "class Element:\n",
    "    def __init__(self, name, symbol, number):\n",
    "        self.__name = name\n",
    "        self.__symbol = symbol\n",
    "        self.__number = number\n",
    "    \n",
    "    @property\n",
    "    def name(self):\n",
    "        return self.__name\n",
    "    \n",
    "    @property\n",
    "    def symbol(self):\n",
    "        return self.__symbol\n",
    "    \n",
    "    @property\n",
    "    def number(self):\n",
    "        return self.__number\n",
    "\n",
    "    Now, you can access the attributes using the getter properties like regular attributes:\n",
    "hydrogen = Element('Hydrogen', 'H', 1)\n",
    "print(hydrogen.name)   # Output: Hydrogen\n",
    "print(hydrogen.symbol) # Output: H\n",
    "print(hydrogen.number) # Output: 1\n"
   ]
  },
  {
   "cell_type": "markdown",
   "id": "6fef6a5c",
   "metadata": {},
   "source": [
    "# 9. Define three classes: Bear, Rabbit, and Octothorpe. For each, define only one method: eats(). This should return 'berries' (Bear), 'clover' (Rabbit), or 'campers' (Octothorpe). Create one object from each and print what it eats."
   ]
  },
  {
   "cell_type": "code",
   "execution_count": null,
   "id": "92f90bde",
   "metadata": {},
   "outputs": [],
   "source": [
    "Here's an example implementation of the three classes Bear, Rabbit, and Octothorpe with their respective eats() methods:\n",
    "class Bear:\n",
    "    def eats(self):\n",
    "        return 'berries'\n",
    "\n",
    "class Rabbit:\n",
    "    def eats(self):\n",
    "        return 'clover'\n",
    "\n",
    "class Octothorpe:\n",
    "    def eats(self):\n",
    "        return 'campers'\n",
    "    \n",
    "You can create objects from each class and print what they eat:\n",
    "bear = Bear()\n",
    "rabbit = Rabbit()\n",
    "octothorpe = Octothorpe()\n",
    "\n",
    "print(bear.eats())       # Output: berries\n",
    "print(rabbit.eats())     # Output: clover\n",
    "print(octothorpe.eats()) # Output: campers\n",
    "\n",
    "Each class has a single method eats() that returns a specific food item associated with the type of animal."
   ]
  },
  {
   "cell_type": "markdown",
   "id": "82fea467",
   "metadata": {},
   "source": [
    "# 10. Define these classes: Laser, Claw, and SmartPhone. Each has only one method: does(). This returns 'disintegrate' (Laser), 'crush' (Claw), or 'ring' (SmartPhone). Then, define the class Robot that has one instance (object) of each of these. Define a does() method for the Robot that prints what its component objects do."
   ]
  },
  {
   "cell_type": "code",
   "execution_count": null,
   "id": "fb7777a6",
   "metadata": {},
   "outputs": [],
   "source": [
    "Here's an example implementation of the classes Laser, Claw, SmartPhone, and Robot:\n",
    "\n",
    "class Laser:\n",
    "    def does(self):\n",
    "        return 'disintegrate'\n",
    "\n",
    "class Claw:\n",
    "    def does(self):\n",
    "        return 'crush'\n",
    "\n",
    "class SmartPhone:\n",
    "    def does(self):\n",
    "        return 'ring'\n",
    "\n",
    "class Robot:\n",
    "    def __init__(self):\n",
    "        self.laser = Laser()\n",
    "        self.claw = Claw()\n",
    "        self.smartphone = SmartPhone()\n",
    "\n",
    "    def does(self):\n",
    "        print(f\"Laser: {self.laser.does()}\")\n",
    "        print(f\"Claw: {self.claw.does()}\")\n",
    "        print(f\"SmartPhone: {self.smartphone.does()}\")\n",
    "\n",
    "In this example, the Robot class has three instance variables (laser, claw, and smartphone), each representing an object of the corresponding class. The does() method of the Robot class prints what each component object does.\n",
    "\n",
    "You can create a Robot object and call its does() method to see the output:\n",
    "robot = Robot()\n",
    "robot.does()\n",
    "Output:\n",
    "Laser: disintegrate\n",
    "Claw: crush\n",
    "SmartPhone: ring\n",
    "\n",
    "    The does() method of the Robot class prints the actions performed by each component object (Laser, Claw, and SmartPhone)."
   ]
  }
 ],
 "metadata": {
  "kernelspec": {
   "display_name": "Python 3 (ipykernel)",
   "language": "python",
   "name": "python3"
  },
  "language_info": {
   "codemirror_mode": {
    "name": "ipython",
    "version": 3
   },
   "file_extension": ".py",
   "mimetype": "text/x-python",
   "name": "python",
   "nbconvert_exporter": "python",
   "pygments_lexer": "ipython3",
   "version": "3.9.12"
  }
 },
 "nbformat": 4,
 "nbformat_minor": 5
}
